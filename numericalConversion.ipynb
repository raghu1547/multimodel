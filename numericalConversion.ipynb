{
    "cells": [
        {
            "cell_type": "code",
            "execution_count": 6,
            "metadata": {},
            "outputs": [
                {
                    "ename": "TabError",
                    "evalue": "inconsistent use of tabs and spaces in indentation (608039788.py, line 14)",
                    "output_type": "error",
                    "traceback": [
                        "\u001b[1;36m  Input \u001b[1;32mIn [6]\u001b[1;36m\u001b[0m\n\u001b[1;33m    if re.search(\"[0-9][0-9][0-9][0-9]_th_[0-9]_11.xlsx\",f):\u001b[0m\n\u001b[1;37m    ^\u001b[0m\n\u001b[1;31mTabError\u001b[0m\u001b[1;31m:\u001b[0m inconsistent use of tabs and spaces in indentation\n"
                    ]
                }
            ],
            "source": []
        },
        {
            "cell_type": "code",
            "execution_count": 7,
            "metadata": {},
            "outputs": [
                {
                    "ename": "TabError",
                    "evalue": "inconsistent use of tabs and spaces in indentation (3478180480.py, line 14)",
                    "output_type": "error",
                    "traceback": [
                        "\u001b[1;36m  Input \u001b[1;32mIn [7]\u001b[1;36m\u001b[0m\n\u001b[1;33m    if re.search(\"[0-9][0-9][0-9][0-9]_th_[0-9]_11.xlsx\",f):\u001b[0m\n\u001b[1;37m    ^\u001b[0m\n\u001b[1;31mTabError\u001b[0m\u001b[1;31m:\u001b[0m inconsistent use of tabs and spaces in indentation\n"
                    ]
                }
            ],
            "source": [
                "import os\n",
                "import math \n",
                "import re\n",
                "import pandas as pd\n",
                "import numpy as np\n",
                "import numpy as np\n",
                "directory = 'features'\n",
                "for filename in os.listdir(directory):\n",
                "\tf = os.path.join(directory, filename)\n",
                "\tdistancefrompoint = pd.DataFrame(columns=['distance','orientationdiff'])\n",
                "\tmaxdistance=0\n",
                "\tmaxorientationdiff=0\n",
                "\tif os.path.isfile(f):\n",
                "        if re.search(\"[0-9][0-9][0-9][0-9]_th_[0-9]_11.xlsx\",f):\n",
                "            print(f)\n",
                "            # dataframe1 = pd.read_excel(f)\n",
                "            # #print(dataframe1)\n",
                "            # pointX = dataframe1['locX'][0]\n",
                "            # pointY = dataframe1['locY'][0]\n",
                "            # orientation = dataframe1['Orientation'][0]\n",
                "\n",
                "\n",
                "            # for ind in dataframe1.index:\n",
                "            #     distance =(pointX - dataframe1['locX'][ind])*(pointX - dataframe1['locX'][ind]) + (pointY-dataframe1['locY'][ind])*(pointY-dataframe1['locY'][ind])\n",
                "            #     distance = math.sqrt(distance)\n",
                "            #     distance = round(distance)\n",
                "            #     orientationdiff = abs(orientation - dataframe1['Orientation'][ind])\n",
                "            #     orientationdiff=round(orientationdiff)\n",
                "            #     #print(distance)\n",
                "            #     maxdistance=max(maxdistance,distance)\n",
                "            #     maxorientationdiff=max(maxorientationdiff,orientationdiff)\n",
                "            #     #print(orientationdiff)\n",
                "            #     distancefrompoint = distancefrompoint.append({'distance':distance,'orientationdiff':orientationdiff},ignore_index=True)\n",
                "                #print(distancefrompoint)\n",
                "\n",
                "\t# distancefrompoint.sort_values(by=['distance'])\n",
                "\t# K=10\n",
                "\t# distancefrompoint = distancefrompoint.iloc[1:K+1]\n",
                "\n",
                "\t# boolarray = np.zeros((maxdistance+1,maxorientationdiff+1))\n",
                "\n",
                "\t# for ind in distancefrompoint.index:\n",
                "\t# \tboolarray[distancefrompoint['distance'][ind]][distancefrompoint['orientationdiff'][ind]]=1\n",
                "\n",
                "\t# stringvec=\"\"\n",
                "\n",
                "\t# for arr in boolarray:\n",
                "\t# \tfor elem in arr:\n",
                "\t# \t\tif elem == 1:\n",
                "\t# \t\t\tstringvec = stringvec + \"1\"\n",
                "\t# \t\t\t#print(\"hemlo\")\n",
                "\t# \t\telse:\n",
                "\t# \t\t\tstringvec = stringvec + \"0\"\n",
                "\n",
                "\t# print(stringvec)\n",
                "\t\n",
                "\n",
                "\n",
                "\n"
            ]
        }
    ],
    "metadata": {
        "interpreter": {
            "hash": "041a377ade3f3c22017a5d508a1e9574b6651271c8e80113a11c5b3c78267a08"
        },
        "kernelspec": {
            "display_name": "Python 3.10.4 64-bit",
            "language": "python",
            "name": "python3"
        },
        "language_info": {
            "codemirror_mode": {
                "name": "ipython",
                "version": 3
            },
            "file_extension": ".py",
            "mimetype": "text/x-python",
            "name": "python",
            "nbconvert_exporter": "python",
            "pygments_lexer": "ipython3",
            "version": "3.10.4"
        },
        "orig_nbformat": 4
    },
    "nbformat": 4,
    "nbformat_minor": 2
}
